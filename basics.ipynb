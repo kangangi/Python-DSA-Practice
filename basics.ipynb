{
 "cells": [
  {
   "cell_type": "markdown",
   "metadata": {},
   "source": [
    "# Python Challenges: Python Basics"
   ]
  },
  {
   "cell_type": "markdown",
   "metadata": {},
   "source": [
    "##### 1. Write a short Python function that takes a string s, representing a sentence, and returns a copy of the string with all punctuation removed. For example, if given the string \"Let s try, Mike.\", this function would return \"Lets try Mike\"."
   ]
  },
  {
   "cell_type": "code",
   "execution_count": 23,
   "metadata": {},
   "outputs": [
    {
     "name": "stdout",
     "output_type": "stream",
     "text": [
      "Let s try, Mike\n"
     ]
    }
   ],
   "source": [
    "import string\n",
    "\n",
    "def no_punction(str):\n",
    "    return str.strip(string.punctuation)\n",
    "\n",
    "print(no_punction(\"Let s try, Mike.\"))"
   ]
  },
  {
   "cell_type": "markdown",
   "metadata": {},
   "source": [
    "##### 2. Write a short Python function, is multiple(n, m), that takes two integer values and returns True if n is a multiple of m, that is, n = mi for some integer i, and False otherwise"
   ]
  },
  {
   "cell_type": "code",
   "execution_count": 24,
   "metadata": {},
   "outputs": [
    {
     "data": {
      "text/plain": [
       "True"
      ]
     },
     "execution_count": 24,
     "metadata": {},
     "output_type": "execute_result"
    }
   ],
   "source": [
    "def multiple(n, m):\n",
    "    return n % m == 0\n",
    "\n",
    "multiple(24, 6)"
   ]
  },
  {
   "cell_type": "markdown",
   "metadata": {},
   "source": [
    " \n",
    "##### 3. Write a short Python function, is even(k), that takes an integer value and returns True if k is even, and False otherwise. However, your function cannot use the multiplication, modulo, or division operators."
   ]
  },
  {
   "cell_type": "code",
   "execution_count": 25,
   "metadata": {},
   "outputs": [
    {
     "data": {
      "text/plain": [
       "False"
      ]
     },
     "execution_count": 25,
     "metadata": {},
     "output_type": "execute_result"
    }
   ],
   "source": [
    "def is_even(k):\n",
    "   return k & 1 == 0\n",
    "\n",
    "is_even(5)"
   ]
  },
  {
   "cell_type": "markdown",
   "metadata": {},
   "source": [
    "##### 4. Write a short Python function, minmax(data), that takes a sequence of one or more numbers, and returns the smallest and largest numbers, in the form of a tuple of length two. Do not use the built-in functions min or max in implementing your solution"
   ]
  },
  {
   "cell_type": "code",
   "execution_count": 26,
   "metadata": {},
   "outputs": [
    {
     "data": {
      "text/plain": [
       "(4, 10)"
      ]
     },
     "execution_count": 26,
     "metadata": {},
     "output_type": "execute_result"
    }
   ],
   "source": [
    "def minmax(data):\n",
    "    max = data[0]\n",
    "    min = data[0]\n",
    "    for i in data:\n",
    "        if i >= max:\n",
    "            max = i\n",
    "        if i <= min:\n",
    "            min = i\n",
    "\n",
    "    return (min, max,)\n",
    "\n",
    "minmax([6,7,8,4,10])"
   ]
  },
  {
   "cell_type": "markdown",
   "metadata": {},
   "source": [
    "##### 5. Write a short Python function that takes a positive integer n and returns the sum of the squares of all the positive integers smaller than n."
   ]
  },
  {
   "cell_type": "code",
   "execution_count": 27,
   "metadata": {},
   "outputs": [
    {
     "data": {
      "text/plain": [
       "30"
      ]
     },
     "execution_count": 27,
     "metadata": {},
     "output_type": "execute_result"
    }
   ],
   "source": [
    "def pos_sum(n):\n",
    "    return sum([i*i for i in range(n)])\n",
    "\n",
    "pos_sum(5)"
   ]
  },
  {
   "cell_type": "markdown",
   "metadata": {},
   "source": [
    "##### 6. Write a short Python function that takes a positive integer n and returns the sum of the squares of all the odd positive integers smaller than n."
   ]
  },
  {
   "cell_type": "code",
   "execution_count": 28,
   "metadata": {},
   "outputs": [
    {
     "data": {
      "text/plain": [
       "10"
      ]
     },
     "execution_count": 28,
     "metadata": {},
     "output_type": "execute_result"
    }
   ],
   "source": [
    "def odd_sum(n):\n",
    "    return sum([i*i for i in range(n) if i % 2 != 0])\n",
    "\n",
    "odd_sum(5)"
   ]
  },
  {
   "cell_type": "markdown",
   "metadata": {},
   "source": [
    "##### 7. Python allows negative integers to be used as indices into a sequence, such as a string. If string s has length n, and expression s[k] is used for index −n ≤ k < 0 what is the equivalent index j ≥ 0 such that s[j] references the same element?"
   ]
  },
  {
   "cell_type": "markdown",
   "metadata": {},
   "source": [
    "x = ['a', 'b', 'c', 'd']\n",
    "\n",
    "n = len(x)\n",
    "a =>  j = 0 and k = -n  \n",
    "b =>  j = 1 and k = -n + 1  \n",
    "c =>  j = 2 and k = -n + 2  \n",
    "d =>  j = 3 and k = -n + 3  \n",
    "\n",
    "if k = -n + 3 when j = 3  \n",
    "then\n",
    "    k = -n + j   \n",
    "    j = k + n   "
   ]
  },
  {
   "cell_type": "markdown",
   "metadata": {},
   "source": [
    "##### 8. What parameters should be sent to the range constructor, to produce a range with values 50, 60, 70, 80?"
   ]
  },
  {
   "cell_type": "code",
   "execution_count": 29,
   "metadata": {},
   "outputs": [
    {
     "data": {
      "text/plain": [
       "[50, 60, 70, 80]"
      ]
     },
     "execution_count": 29,
     "metadata": {},
     "output_type": "execute_result"
    }
   ],
   "source": [
    "x = [i for i in range(50, 81, 10)]\n",
    "\n",
    "x"
   ]
  },
  {
   "cell_type": "markdown",
   "metadata": {},
   "source": [
    "##### 9. What parameters should be sent to the range constructor, to produce a range with values 8, 6, 4, 2, 0, −2, −4, −6, −8?"
   ]
  },
  {
   "cell_type": "code",
   "execution_count": 30,
   "metadata": {},
   "outputs": [
    {
     "data": {
      "text/plain": [
       "[8, 6, 4, 2, 0, -2, -4, -6, -8]"
      ]
     },
     "execution_count": 30,
     "metadata": {},
     "output_type": "execute_result"
    }
   ],
   "source": [
    "x = [i for i in range(8, -9, -2)]\n",
    "\n",
    "x"
   ]
  },
  {
   "cell_type": "markdown",
   "metadata": {},
   "source": [
    "##### 10. Demonstrate how to use Python’s list comprehension syntax to producethe list [1, 2, 4, 8, 16, 32, 64, 128, 256]"
   ]
  },
  {
   "cell_type": "code",
   "execution_count": 31,
   "metadata": {},
   "outputs": [
    {
     "data": {
      "text/plain": [
       "[1, 2, 4, 8, 16, 32, 64, 128, 256]"
      ]
     },
     "execution_count": 31,
     "metadata": {},
     "output_type": "execute_result"
    }
   ],
   "source": [
    "x = [2**i for i in range(9)]\n",
    "x"
   ]
  },
  {
   "cell_type": "markdown",
   "metadata": {},
   "source": [
    "##### 11. Python’s random module includes a function choice(data) that returns a random element from a non-empty sequence. The random module includes a more basic function randrange, with parameterization similar to the built-in range function, that return a random choice from the given range. Using only the randrange function, implement your own version of the choice function."
   ]
  },
  {
   "cell_type": "code",
   "execution_count": 32,
   "metadata": {},
   "outputs": [
    {
     "data": {
      "text/plain": [
       "'apple'"
      ]
     },
     "execution_count": 32,
     "metadata": {},
     "output_type": "execute_result"
    }
   ],
   "source": [
    "import random\n",
    "def custom_choice(data):\n",
    "    x = len(data)\n",
    "    index = random.randrange(x)\n",
    "    return data[index]\n",
    "\n",
    "custom_choice(['apple', 'banana', 'cherry', 'dates', 'figs'])\n"
   ]
  },
  {
   "cell_type": "markdown",
   "metadata": {},
   "source": [
    "##### 12. Write a pseudo-code description of a function that reverses a list of n integers, so that the numbers are listed in the opposite order than they were before, and compare this method to an equivalent Python function for doing the same thing."
   ]
  },
  {
   "cell_type": "code",
   "execution_count": 33,
   "metadata": {},
   "outputs": [
    {
     "data": {
      "text/plain": [
       "([67, 45, 17, 4, 2, 1], [1, 2, 4, 17, 45, 67])"
      ]
     },
     "execution_count": 33,
     "metadata": {},
     "output_type": "execute_result"
    }
   ],
   "source": [
    "def reverse_list(data):\n",
    "    left_index = 0\n",
    "    right_index = len(data) - 1\n",
    "\n",
    "    while left_index < right_index:\n",
    "        temp = data[left_index]\n",
    "        data[left_index] = data[right_index]\n",
    "        data[right_index] = temp\n",
    "\n",
    "        left_index += 1\n",
    "        right_index -= 1\n",
    "    return data\n",
    "\n",
    "def python_reverse_list(data):\n",
    "    return data[::-1]\n",
    "\n",
    "\n",
    "data = [1, 2, 4, 17, 45, 67]\n",
    "\n",
    "x  = reverse_list(data)\n",
    "y = python_reverse_list(data)\n",
    "\n",
    "x, y"
   ]
  },
  {
   "cell_type": "markdown",
   "metadata": {},
   "source": [
    "##### 13. Write a short Python function that takes a sequence of integer values and determines if there is a distinct pair of numbers in the sequence whose product is odd."
   ]
  },
  {
   "cell_type": "code",
   "execution_count": 34,
   "metadata": {},
   "outputs": [
    {
     "data": {
      "text/plain": [
       "True"
      ]
     },
     "execution_count": 34,
     "metadata": {},
     "output_type": "execute_result"
    }
   ],
   "source": [
    "def distinct_odd_product(sequence):\n",
    "    for i in range(len(sequence)):\n",
    "        for j in range(i+1, len(sequence)):\n",
    "            if (sequence[i] * sequence[j]) % 2 == 1:\n",
    "                return True\n",
    "    return False\n",
    "\n",
    "distinct_odd_product([1,3, 5])"
   ]
  },
  {
   "cell_type": "markdown",
   "metadata": {},
   "source": [
    "##### 14. Write a Python function that takes a sequence of numbers and determines if all the numbers are different from each other (that is, they are distinct)\n",
    "\n"
   ]
  },
  {
   "cell_type": "code",
   "execution_count": 35,
   "metadata": {},
   "outputs": [],
   "source": [
    "def unique(data):\n",
    "    return list(set(data)) == data"
   ]
  },
  {
   "cell_type": "markdown",
   "metadata": {},
   "source": [
    "##### 15. Demonstrate how to use Python’s list comprehension syntax to produce the list [0, 2, 6, 12, 20, 30, 42, 56, 72, 90]."
   ]
  },
  {
   "cell_type": "code",
   "execution_count": 36,
   "metadata": {},
   "outputs": [
    {
     "data": {
      "text/plain": [
       "([0, 2, 6, 12, 20, 30, 42, 56, 72, 90], [0, 2, 6, 12, 20, 30, 42, 56, 72, 90])"
      ]
     },
     "execution_count": 36,
     "metadata": {},
     "output_type": "execute_result"
    }
   ],
   "source": [
    "\n",
    "x = [i + i**2 for i in range(10)]\n",
    "y = [i * (i + 1) for i in range(10)]\n",
    "\n",
    "x, y"
   ]
  },
  {
   "cell_type": "markdown",
   "metadata": {},
   "source": [
    "##### 16.  Demonstrate how to use Python’s list comprehension syntax to produce the list [ a , b , c , ..., z ], but without having to type all 26 such characters literally."
   ]
  },
  {
   "cell_type": "code",
   "execution_count": 37,
   "metadata": {},
   "outputs": [],
   "source": [
    "import string\n",
    "x = [char for char in string.ascii_lowercase]\n"
   ]
  },
  {
   "cell_type": "markdown",
   "metadata": {},
   "source": [
    "##### 17. Python’s random module includes a function shuffle(data) that accepts a list of elements and randomly reorders the elements so that each possible order occurs with equal probability. The random module includes a more basic function randint(a, b) that returns a uniformly random integer from a to b (including both endpoints). Using only the randint function, implement your own version of the shuffle function\n",
    "\n",
    "\n"
   ]
  },
  {
   "cell_type": "code",
   "execution_count": 38,
   "metadata": {},
   "outputs": [
    {
     "data": {
      "text/plain": [
       "[1, 4, 3, 2]"
      ]
     },
     "execution_count": 38,
     "metadata": {},
     "output_type": "execute_result"
    }
   ],
   "source": [
    "from random import randint\n",
    "\n",
    "def custom_shuffle(data):\n",
    "    new_list = []\n",
    "    count = len(data)\n",
    "    while count > 0:\n",
    "        rand = randint(0,count-1)\n",
    "        new_list.append(data[rand])\n",
    "        del data[rand]\n",
    "        count -= 1\n",
    "\n",
    "    return new_list\n",
    "\n",
    "def custom_shuffle2(data):\n",
    "    for i in range(len(data)-1, -1, -1):\n",
    "        j = randint(0, i)\n",
    "        data[i], data[j] = data[j], data[i]\n",
    "    return data\n",
    "\n",
    "data = [1, 2, 3, 4]\n",
    "custom_shuffle(data)"
   ]
  },
  {
   "cell_type": "markdown",
   "metadata": {},
   "source": [
    "##### 18. Write a short Python program that takes two arrays a and b of length n storing int values, and returns the dot product of a and b. That is, it returns an array c of length n such that c[i] = a[i] · b[i], for i = 0,...,n−1.\n",
    "\n"
   ]
  },
  {
   "cell_type": "code",
   "execution_count": 41,
   "metadata": {},
   "outputs": [
    {
     "data": {
      "text/plain": [
       "[5, 12, 21, 32]"
      ]
     },
     "execution_count": 41,
     "metadata": {},
     "output_type": "execute_result"
    }
   ],
   "source": [
    "a = [1, 2, 3, 4]\n",
    "b = [5, 6, 7, 8]\n",
    "c =[ a[i]*b[i] for i in range(len(a))]\n",
    "c"
   ]
  },
  {
   "cell_type": "markdown",
   "metadata": {},
   "source": [
    "##### 19. Give an example of a Python code fragment that attempts to write an element to a list based on an index that may be out of bounds. If that index is out of bounds, the program should catch the exception that results, and print the following error message: “Don’t try buffer overflow attacks in Python!”"
   ]
  },
  {
   "cell_type": "code",
   "execution_count": 45,
   "metadata": {},
   "outputs": [
    {
     "data": {
      "text/plain": [
       "'Don’t try buffer overflow attacks in Python!'"
      ]
     },
     "execution_count": 45,
     "metadata": {},
     "output_type": "execute_result"
    }
   ],
   "source": [
    "def index_error_catcher(data, index):\n",
    "\n",
    "    try:\n",
    "        return data[index]\n",
    "    except IndexError:\n",
    "        return \"Don’t try buffer overflow attacks in Python!\"\n",
    "\n",
    "\n",
    "data = ['apple', 'banana', 'orange', 'grape', 'kiwi', 'mango', 'pear', 'pineapple', 'strawberry', 'watermelon']\n",
    "\n",
    "index_error_catcher(data, 19)"
   ]
  },
  {
   "cell_type": "markdown",
   "metadata": {},
   "source": [
    "##### 20. Write a short Python function that counts the number of vowels in a given character string.\n"
   ]
  },
  {
   "cell_type": "code",
   "execution_count": 46,
   "metadata": {},
   "outputs": [
    {
     "data": {
      "text/plain": [
       "4"
      ]
     },
     "execution_count": 46,
     "metadata": {},
     "output_type": "execute_result"
    }
   ],
   "source": [
    "def vowel_counter(string):\n",
    "    count = 0\n",
    "    vowels = ['a', 'e', 'i', 'o', 'u']\n",
    "    for i in string:\n",
    "        if i in vowels:\n",
    "            count += 1\n",
    "\n",
    "    return count\n",
    "\n",
    "vowel_counter(\"Persistence\")"
   ]
  },
  {
   "cell_type": "markdown",
   "metadata": {},
   "source": [
    "##### 21. Write a short program that takes as input three integers, a, b, and c, from the console and determines if they can be used in a correct arithmetic formula (in the given order), like “a+b = c,” “a = b−c,” or “a ∗ b = c.” "
   ]
  },
  {
   "cell_type": "code",
   "execution_count": 3,
   "metadata": {},
   "outputs": [
    {
     "name": "stdout",
     "output_type": "stream",
     "text": [
      "True True False False\n"
     ]
    },
    {
     "data": {
      "text/plain": [
       "True"
      ]
     },
     "execution_count": 3,
     "metadata": {},
     "output_type": "execute_result"
    }
   ],
   "source": [
    "def can_add(a, b, c):\n",
    "    return (a == b + c) or (a + b == c)\n",
    "\n",
    "def can_subtract(a, b, c):\n",
    "    return (a == b - c) or (a - b == c)\n",
    "\n",
    "def can_multiply(a, b, c):\n",
    "    return (a == b * c) or ( a * b == c)\n",
    "\n",
    "def can_divide(a, b, c):\n",
    "    return (a == b / c) or ( a / b == c)\n",
    "\n",
    "\n",
    "def arithmetic(a, b, c):\n",
    "    add = can_add(a,b,c)\n",
    "    subtract = can_subtract(a, b, c)\n",
    "    multiply = can_multiply(a, b, c)\n",
    "    divide = can_divide(a, b, c)\n",
    "\n",
    "    return add or subtract or multiply or divide\n",
    "\n",
    "\n",
    "arithmetic(5, 2,3)"
   ]
  },
  {
   "cell_type": "markdown",
   "metadata": {},
   "source": [
    "##### 22. Given a generator that computes factors of a given integer below, Modify the generator so that it reports factors in increasing order, while maintaining its general performance advantages"
   ]
  },
  {
   "cell_type": "code",
   "execution_count": 8,
   "metadata": {},
   "outputs": [
    {
     "name": "stdout",
     "output_type": "stream",
     "text": [
      "10\n"
     ]
    },
    {
     "data": {
      "text/plain": [
       "[1, 2, 4, 5, 10, 20, 25, 50, 100]"
      ]
     },
     "execution_count": 8,
     "metadata": {},
     "output_type": "execute_result"
    }
   ],
   "source": [
    "def factors(n):\n",
    "    k = 1\n",
    "    while k * k < n:\n",
    "        if n % k == 0:\n",
    "            yield k\n",
    "            yield n // k\n",
    "\n",
    "        k += 1\n",
    "    if k * k == n:\n",
    "        yield k\n",
    "\n",
    "def factors(n):\n",
    "    k = 1\n",
    "    while k*k  < n:\n",
    "        if n % k == 0:\n",
    "            yield k\n",
    "        k+=1\n",
    "    if k*k == n:\n",
    "        yield k\n",
    "\n",
    "    while k <= n//2:\n",
    "        k+=1\n",
    "        if n % k == 0:\n",
    "            yield k\n",
    "    yield n\n",
    "\n",
    "[i for i in factors(100)]"
   ]
  },
  {
   "cell_type": "markdown",
   "metadata": {},
   "source": [
    "##### 23. The p-norm of a vector v = (v1,v2,...,vn) in n-dimensional space is defined as\n",
    "\n",
    "\\begin{align}\n",
    "v  =  sqrt{({v_1}^p + {v_2}^p +  .... + {v_n}^p)}\n",
    "\\end{align}  \n",
    "\n",
    "For the special case of p = 2, this results in the traditional Euclidean norm, which represents the length of the vector. For example, the Euclidean norm of a two-dimensional vector with coordinates (4,3) has a Euclidean norm of √42 +32 = √16+9 = √25 = 5. Give an implementation of a function named norm such that norm(v, p) returns the p-norm value of v and norm(v) returns the Euclidean norm of v. You may assume that v is a list of numbers."
   ]
  },
  {
   "cell_type": "markdown",
   "metadata": {},
   "source": []
  },
  {
   "cell_type": "code",
   "execution_count": 13,
   "metadata": {},
   "outputs": [
    {
     "data": {
      "text/plain": [
       "5.385164807134504"
      ]
     },
     "execution_count": 13,
     "metadata": {},
     "output_type": "execute_result"
    }
   ],
   "source": [
    "def norm(v, p):\n",
    "    return sum(i**p for i in v)**(1/p)\n",
    "norm([4,3,2], 2)"
   ]
  },
  {
   "cell_type": "markdown",
   "metadata": {},
   "source": [
    "##### 24. Write a Python program that outputs all possible strings formed by using the characters c , a , t , d , o , and g exactly once."
   ]
  },
  {
   "cell_type": "code",
   "execution_count": 49,
   "metadata": {},
   "outputs": [
    {
     "data": {
      "text/plain": [
       "['cat', 'cta', 'act', 'atc', 'tca', 'tac']"
      ]
     },
     "execution_count": 49,
     "metadata": {},
     "output_type": "execute_result"
    }
   ],
   "source": [
    "import itertools\n",
    "chars = ['c', 'a', 't', 'd', 'o', 'g']\n",
    "perms = itertools.permutations(chars)\n",
    "count = 0\n",
    "\n",
    "def permutations(s):\n",
    "    if len(s) == 1:\n",
    "        return [s]\n",
    "\n",
    "    result = []\n",
    "    for i in range(len(s)):\n",
    "        c = s[i]\n",
    "        rem = s[:i] + s[i+1:]\n",
    "        sub_perm = permutations(rem)\n",
    "        for perm in sub_perm:\n",
    "            result.append(c + perm)\n",
    " \n",
    "    return result\n",
    "perms = permutations('cat')\n",
    "[x for x in perms]\n",
    "\n",
    "\n",
    "\n"
   ]
  },
  {
   "cell_type": "markdown",
   "metadata": {},
   "source": [
    "##### 25. Write a Python program that can take a positive integer greater than 2 as input and write out the number of times one must repeatedly divide this number by 2 before getting a value less than 2."
   ]
  },
  {
   "cell_type": "code",
   "execution_count": 51,
   "metadata": {},
   "outputs": [
    {
     "data": {
      "text/plain": [
       "3"
      ]
     },
     "execution_count": 51,
     "metadata": {},
     "output_type": "execute_result"
    }
   ],
   "source": [
    "def count_divisions(n):\n",
    "    count = 0\n",
    "    while n >= 2:\n",
    "        n = n / 2\n",
    "        count += 1\n",
    "\n",
    "    return count\n",
    "\n",
    "n = int(input(\"Enter a number\"))\n",
    "count_divisions(n)\n",
    "\n",
    "\n",
    "    "
   ]
  },
  {
   "cell_type": "markdown",
   "metadata": {},
   "source": [
    "##### 26. Write a Python program that can “make change.” Your program should take two numbers ]as input, one that is a monetary amount charged and the other that is a monetary amount given. It should then return the number of each kind of bill and coin to give back as change for the difference between the amount given and the amount charged. The values assigned to the bills and coins can be based on the monetary system of any current or former government. Try to design your program so that it returns as few bills and coins as possible."
   ]
  },
  {
   "cell_type": "code",
   "execution_count": 65,
   "metadata": {},
   "outputs": [
    {
     "data": {
      "text/plain": [
       "[{'1000': 1}, {'500': 1}, {'50': 1}, {'20': 2}, {'5': 1}, {'2': 2}]"
      ]
     },
     "execution_count": 65,
     "metadata": {},
     "output_type": "execute_result"
    }
   ],
   "source": [
    "# Using Kenyan Currency [1, 5, 10, 20, 50, 100, 200, 500, 1000]\n",
    "\n",
    "\n",
    "currency = [1000, 500, 200, 100, 50, 20, 10, 5, 2, 1]\n",
    "\n",
    "def make_change(amount, bill):\n",
    "    if bill > amount:\n",
    "        return \"Insufficient funds\"\n",
    "    elif  bill == amount:\n",
    "        return \"No change\"\n",
    "    change = amount-bill\n",
    "\n",
    "\n",
    "    for i in range(len(currency)):\n",
    "        if change > currency[i]  and  change // currency[i]:\n",
    "            yield  {f\"{currency[i]}\": change // currency[i]}\n",
    "            change = change % currency[i]\n",
    "\n",
    "    \n",
    "\n",
    "[i for i in make_change(10000, 8401)]\n"
   ]
  },
  {
   "cell_type": "markdown",
   "metadata": {},
   "source": [
    "##### 27. The birthday paradox says that the probability that two people in a room will have the same birthday is more than half, provided n, the number of people in the room, is more than 23. This property is not really a paradox, but many people find it surprising. Design a Python program that can test this paradox by a series of experiments on randomly generated birthdays, which test this paradox for n = 5,10,15,20,...,100."
   ]
  },
  {
   "cell_type": "code",
   "execution_count": 88,
   "metadata": {},
   "outputs": [
    {
     "data": {
      "text/plain": [
       "0.6544614723423995"
      ]
     },
     "execution_count": 88,
     "metadata": {},
     "output_type": "execute_result"
    }
   ],
   "source": [
    "import random\n",
    "\n",
    "def random_birthday():\n",
    "    random_month = random.randint(1, 12)\n",
    "    if random_month in [1, 3, 5, 7, 8, 10, 12]:\n",
    "        random_day = random.randint(1, 31)\n",
    "    elif random_month in [4, 6, 9, 11]:\n",
    "        random_day = random.randint(1, 30)\n",
    "    else:\n",
    "        days = random.randint(28,29)\n",
    "        random_day = random.randint(1, days)\n",
    "    \n",
    "    return f\"{random_day}-{random_month}\"\n",
    "\n",
    "def birthday_paradox(n):\n",
    "    birthdays = [random_birthday() for i in range(n)]\n",
    "    return sorted(list(set(birthdays))) != sorted(birthdays)\n",
    "\n",
    "# tests the probability\n",
    "def birthday_paradox(n):\n",
    "    prob = 1\n",
    "    for i in range (0,n):\n",
    "        prob*=(365-i)/365\n",
    "    return 1-prob\n",
    "\n",
    "birthday_paradox(28)\n",
    "\n"
   ]
  },
  {
   "cell_type": "markdown",
   "metadata": {},
   "source": [
    "##### 28. Write a Python program that inputs a list of words, separated by whitespace, and outputs how many times each word appears in the list."
   ]
  },
  {
   "cell_type": "code",
   "execution_count": 92,
   "metadata": {},
   "outputs": [
    {
     "data": {
      "text/plain": [
       "{'word': 1,\n",
       " 'think': 2,\n",
       " 'will': 1,\n",
       " 'in': 1,\n",
       " 'I': 1,\n",
       " 'multiple': 1,\n",
       " 'times': 1,\n",
       " 'the': 2,\n",
       " 'appear': 1,\n",
       " 'list': 1}"
      ]
     },
     "execution_count": 92,
     "metadata": {},
     "output_type": "execute_result"
    }
   ],
   "source": [
    "def word_count(s):\n",
    "    words = s.split(' ')\n",
    "    word_count = {}\n",
    "    for word in set(words):\n",
    "        word_count[word] = words.count(word)\n",
    "    return word_count\n",
    "\n",
    "word_count(\"I think the word think will appear multiple times in the list\")"
   ]
  },
  {
   "cell_type": "markdown",
   "metadata": {},
   "source": [
    "##### 29. A common punishment for school children is to write out a sentence multiple times. Write a Python stand-alone program that will write out the following sentence one hundred times: “I will never spam my friends again.” Your program should number each of the sentences and it should make eight different random-looking typos"
   ]
  },
  {
   "cell_type": "code",
   "execution_count": 25,
   "metadata": {},
   "outputs": [
    {
     "data": {
      "text/plain": [
       "['I will never spam my friends again',\n",
       " 'I will never spam my friends again',\n",
       " 'I will never spam my friends again',\n",
       " 'I will never spam my friends again',\n",
       " 'I will never spam my friends again',\n",
       " 'I will never spam my friends again',\n",
       " 'I will never spam my friends again',\n",
       " 'I will never spam my friends again',\n",
       " 'I will never spam my friends again',\n",
       " 'I will never spam my friends again',\n",
       " 'I will never spam my friends again',\n",
       " 'I will never spam my friends again',\n",
       " 'I will never spam my friends again',\n",
       " 'I will never spam my friends again',\n",
       " 'h will never spam my friends again',\n",
       " 'I will never spam my friends again',\n",
       " 'I will never spam my friends again',\n",
       " 'I will never spam my friends again',\n",
       " 'I will never spam my friends again',\n",
       " 'I will never spam my friends again',\n",
       " 'I will never spam my friends again',\n",
       " 'I will never spam my friends again',\n",
       " 'I will never spam my friends again',\n",
       " 'I will never spam my friends again',\n",
       " 'I will never spam my friends again',\n",
       " 'I will never spam my friends again',\n",
       " 'I will never spam my friends again',\n",
       " 'I will never spam my friends again',\n",
       " 'I will never spam my friends again',\n",
       " 'I will never spam my friends again',\n",
       " 'I will never spam my friends again',\n",
       " 'I will never spam my friends again',\n",
       " 'I will never spam mr friends again',\n",
       " 'I will never spam my friends again',\n",
       " 'I will never spam my friends again',\n",
       " 'I will never spam my friends again',\n",
       " 'I will never spam my friends again',\n",
       " 'I will eever spam my friends again',\n",
       " 'I will never spxm my friends again',\n",
       " 'q will never spam my friends again',\n",
       " 'I will never spam my friends again',\n",
       " 'I will never spam my friends again',\n",
       " 'I will never spam my friends again',\n",
       " 'I will never spam my friends again',\n",
       " 'I will never spam my friends again',\n",
       " 'I will never spam my friends again',\n",
       " 'I will never spam my friends again',\n",
       " 'I will never spam my friends again',\n",
       " 'I will never spam my friends again',\n",
       " 'I will never spam my friends again',\n",
       " 'I will never spam my friends again',\n",
       " 'I will never spam my friends again',\n",
       " 'I will never spam my friends again',\n",
       " 'I will never spam my friends again',\n",
       " 'I will never spam my friends again',\n",
       " 'I will never spam my friends again',\n",
       " 'I will never spam my friemds again',\n",
       " 'I will never spam my friends again',\n",
       " 'I will never spam my friends again',\n",
       " 'I will never spam my friends again',\n",
       " 'I will never spam my friends again',\n",
       " 'I will never spam my friends again',\n",
       " 'I will never spam my friends again',\n",
       " 'I will never spam my friends agaig',\n",
       " 'I will never spam my friends again',\n",
       " 'I will never spam my friends again',\n",
       " 'I will never spam my friends again',\n",
       " 'I will never spam my friends again',\n",
       " 'I will never spam my friends again',\n",
       " 'I will never spam my friends again',\n",
       " 'I will never spam my friends again',\n",
       " 'I will never spam ky friends again',\n",
       " 'I will never spam my friends again',\n",
       " 'I will never spam my friends again',\n",
       " 'I will never spam my friends again',\n",
       " 'I will never spam my friends again',\n",
       " 'I will never spam my friends again',\n",
       " 'I will never spam my friends again',\n",
       " 'I will never spam my friends again',\n",
       " 'I will never spam my friends again',\n",
       " 'I will never spam my friends again',\n",
       " 'I will never spam my friends again',\n",
       " 'I will never spam my friends again',\n",
       " 'I will never spam my friends again',\n",
       " 'I will never spam my friends again',\n",
       " 'I will never spam my friends again',\n",
       " 'I will never spam my friends again',\n",
       " 'I will never spam my friends again',\n",
       " 'I will never spam my friends again',\n",
       " 'I will never spam my friends again',\n",
       " 'I will never spam my friends again',\n",
       " 'I will never spam my friends again',\n",
       " 'I will never spam my friends again',\n",
       " 'I will never spam my friends again',\n",
       " 'I will never spam my friends again',\n",
       " 'I will never spam my friends again',\n",
       " 'I will never spam my friends again',\n",
       " 'I will never spam my friends again',\n",
       " 'I will never spam my friends again',\n",
       " 'I will never spam my friends again']"
      ]
     },
     "execution_count": 25,
     "metadata": {},
     "output_type": "execute_result"
    }
   ],
   "source": [
    "import random\n",
    "def get_typo_word(word):\n",
    "    typo_index = random.randint(0, len(word)- 1)\n",
    "    typo_char = random.choice(list(set('abcdefghijklmnopqrstuvwxyz') - set(word[typo_index]))) # choose a random character that is different from the one at the typo index\n",
    "    typo_word = word[:typo_index] + typo_char + word[typo_index+1:] \n",
    "\n",
    "    return typo_word\n",
    "\n",
    "def random_typo():\n",
    "    my_list = [\"I will never spam my friends again\" for i in range(100)]\n",
    "\n",
    "    typo_indexes = random.sample(range(0,100), 8)\n",
    "    for i  in typo_indexes:\n",
    "        element = my_list[i].split(\" \")\n",
    "        typo = random.randint(0, len(element)-1)\n",
    "        word = element[typo]\n",
    "        typo_word= get_typo_word(word)\n",
    "        element[typo] = typo_word\n",
    "        my_list[i] = \" \".join(element)\n",
    "\n",
    "    return my_list\n",
    "\n",
    "random_typo()\n"
   ]
  }
 ],
 "metadata": {
  "kernelspec": {
   "display_name": "Python 3.7.11 ('base')",
   "language": "python",
   "name": "python3"
  },
  "language_info": {
   "codemirror_mode": {
    "name": "ipython",
    "version": 3
   },
   "file_extension": ".py",
   "mimetype": "text/x-python",
   "name": "python",
   "nbconvert_exporter": "python",
   "pygments_lexer": "ipython3",
   "version": "3.7.11"
  },
  "vscode": {
   "interpreter": {
    "hash": "ce502919590890c412f6503eaf08206d877317a2348cd67a1dc020975ef9fcc0"
   }
  }
 },
 "nbformat": 4,
 "nbformat_minor": 2
}
